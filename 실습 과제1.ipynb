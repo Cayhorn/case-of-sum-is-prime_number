{
 "cells": [
  {
   "cell_type": "markdown",
   "id": "1e50cecf-e54c-44e5-8926-b8e19895ffc7",
   "metadata": {},
   "source": [
    "## 3개의 수를 더했을 때 소수가 되는 경우의 개수를 구하는 프로그램"
   ]
  },
  {
   "cell_type": "code",
   "execution_count": 3,
   "id": "d1d1e84c-076e-40be-8ef1-77d6d99fdcbf",
   "metadata": {},
   "outputs": [
    {
     "name": "stdout",
     "output_type": "stream",
     "text": [
      "nums 리스트 : [367, 409, 898, 997, 114, 94, 662, 119, 704, 581, 654, 848, 356, 940, 918, 539, 19]\n",
      "이 중 임의의 세 가지 숫자 합이 소수가 되는 경우는 94가지입니다.\n"
     ]
    }
   ],
   "source": [
    "from itertools import combinations\n",
    "def solution(nums):\n",
    "    result = 0\n",
    "    three_nums_tuple = list(combinations(nums, 3))\n",
    "    three_nums = []\n",
    "    for number in three_nums_tuple:\n",
    "        three_nums.append(list(number))\n",
    "    for num in three_nums:\n",
    "        prime_bool = True\n",
    "        sum_num = sum(num)\n",
    "        for i in range(2, sum_num):\n",
    "            if sum_num % i == 0:\n",
    "                prime_bool = False\n",
    "        if prime_bool:\n",
    "            result += 1\n",
    "    return result\n",
    "import random as r\n",
    "count = r.randint(3, 50)\n",
    "nums = []\n",
    "while len(nums) < count:\n",
    "    j = r.randint(1, 1000)\n",
    "    if j not in nums:\n",
    "        nums.append(j)\n",
    "print(f\"nums 리스트 : {nums}\")\n",
    "print(f\"이 중 임의의 세 가지 숫자 합이 소수가 되는 경우는 {solution(nums)}가지입니다.\")"
   ]
  },
  {
   "cell_type": "markdown",
   "id": "62ef4332-1623-4e58-aecc-ec0bb137dc6c",
   "metadata": {},
   "source": [
    "## 코드설명"
   ]
  },
  {
   "cell_type": "markdown",
   "id": "6efc7462-4043-4760-8264-7dcfe34717bf",
   "metadata": {},
   "source": [
    "<pre>>>> from itertools import combinations</pre>\n",
    "##### itertools 모듈에서 combinations 메소드를 가져옵니다."
   ]
  },
  {
   "cell_type": "markdown",
   "id": "90960e08-e32b-4732-8adb-f58f7dc5984c",
   "metadata": {},
   "source": [
    "<pre>>>> def solution(nums):</pre>\n",
    "여기서부터 **사용자 정의 함수 solution**을 정의합니다."
   ]
  },
  {
   "cell_type": "markdown",
   "id": "c01f0a53-93ef-452b-a7d9-6b380dbfa6f8",
   "metadata": {},
   "source": [
    "<pre>\n",
    ">>> result = 0\n",
    ">>> three_nums_tuple = list(combinations(nums, 3))\n",
    ">>> three_nums = []\n",
    "</pre>\n",
    "* 경우의 수를 구하기 위해 result 변수를 0으로 지정하고 소수가 되는 경우를 1씩 더하는 방식으로 진행할 것입니다.\n",
    "* combinations 메서드를 리스트형으로 바꾸기 위하여 **내장함수 list**를 사용하였습니다.\n",
    "* 임의의 세 가지 수를 추출하기 위해 **빈 리스트 three_nums**를 지정하였습니다."
   ]
  },
  {
   "cell_type": "markdown",
   "id": "2d7a2fc2",
   "metadata": {},
   "source": [
    "<pre>\n",
    ">>> for number in three_nums_tuple:\n",
    "        three_nums.append(list(number))</pre>\n",
    "리스트의 요소들이 튜플자료형이므로, 튜플자료형을 리스트자료형으로 변환합니다."
   ]
  },
  {
   "cell_type": "markdown",
   "id": "51aae6df",
   "metadata": {},
   "source": [
    "<pre>\n",
    ">>> for num in three_nums:\n",
    "        prime_bool = True\n",
    "        sum_num = sum(num)\n",
    "        for i in range(2, sum_num):\n",
    "            if sum_num % i == 0:\n",
    "                prime_bool = False\n",
    "        if prime_bool:\n",
    "            result += 1\n",
    "    return result\n",
    "</pre>\n",
    "three_nums 리스트의 요소들을 각각 더하고(sum),\n",
    "소수를 판별하기 위해, **1과 자신을 제외한 수 중에서 약수가 되는 수가 없는지 판별**합니다.\n",
    "만약, 약수가 없다면 소수인지를 알려주는 변수 prime_bool의 값이 True이므로 result 변수 값이 1 추가되고,\n",
    "반대로 있다면 prime_bool의 값이 False가 되므로 result 변수 값이 유지됩니다.\n",
    "최종적으로 경우의 수 result 변수를 반환함으로써 주어진 문제를 해결합니다."
   ]
  },
  {
   "cell_type": "markdown",
   "id": "17306274",
   "metadata": {},
   "source": [
    "<pre>\n",
    ">>> import random as r\n",
    ">>> count = r.randint(3, 50)\n",
    ">>> nums = []</pre>\n",
    "* random 모듈을 가져오고(import) r로 치환합니다(as).\n",
    "* 실제 변수의 개수를 임의로 지정하기 위해 **randint 메서드**를 이용합니다.\n",
    "* 숫자 리스트를 만들기 위해 빈 리스트 nums를 지정합니다."
   ]
  },
  {
   "cell_type": "markdown",
   "id": "dbce2276",
   "metadata": {},
   "source": [
    "<pre>\n",
    ">>> while len(nums) < count:\n",
    "        j = r.randint(1, 1000)\n",
    "        if j not in nums:\n",
    "            nums.append(j)</pre>\n",
    "빈 숫자 리스트에 1에서 1000 사이의 임의의 숫자로 채웁니다.\n",
    "이때, 리스트에 이미 추가된 숫자가 있는 경우에는 nums 리스트에 숫자가 추가되지 않습니다.\n",
    "따라서 중복의 빈도를 알 수 없으므로, **for문 대신 while문으로** 작성하였습니다."
   ]
  },
  {
   "cell_type": "markdown",
   "id": "3f4baae6",
   "metadata": {},
   "source": [
    "<pre>\n",
    ">>> print(f\"nums 리스트 : {nums}\")\n",
    ">>> print(f\"이 중 임의의 세 가지 숫자 합이 소수가 되는 경우는 {solution(nums)}가지입니다.\")</pre>\n",
    "**f-string**을 통해 문자열과 리스트, 사용자정의 함수 값을 같이 출력합니다. solution(nums)을 실행하기 위해 디버깅이 def문으로 돌아가서 진행됩니다."
   ]
  }
 ],
 "metadata": {
  "kernelspec": {
   "display_name": "Python 3 (ipykernel)",
   "language": "python",
   "name": "python3"
  },
  "language_info": {
   "codemirror_mode": {
    "name": "ipython",
    "version": 3
   },
   "file_extension": ".py",
   "mimetype": "text/x-python",
   "name": "python",
   "nbconvert_exporter": "python",
   "pygments_lexer": "ipython3",
   "version": "3.11.7"
  }
 },
 "nbformat": 4,
 "nbformat_minor": 5
}
