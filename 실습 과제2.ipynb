{
 "cells": [
  {
   "cell_type": "markdown",
   "id": "3131e926-28bf-4aee-a3a1-9a8048f51d71",
   "metadata": {},
   "source": [
    "## Day 47 Challenge"
   ]
  },
  {
   "cell_type": "code",
   "execution_count": 2,
   "id": "3df0f00a-d85b-4303-9a15-b8fa516d53e5",
   "metadata": {},
   "outputs": [
    {
     "name": "stdout",
     "output_type": "stream",
     "text": [
      "[4, 16, 36, 64, 100]\n"
     ]
    }
   ],
   "source": [
    "num_list = [num for num in range(1, 10 + 1)]\n",
    "even_list = list(filter(lambda x: x % 2 == 0, num_list))\n",
    "square_list = list(map(lambda y: y ** 2, even_list))\n",
    "print(square_list)"
   ]
  },
  {
   "cell_type": "markdown",
   "id": "4c32df25-8663-4e6c-b4d1-41ac3da0065e",
   "metadata": {},
   "source": [
    "#### list comprehension을 이용하여 1에서 10까지를 요소로 하는 리스트를 생성한다."
   ]
  },
  {
   "cell_type": "markdown",
   "id": "b666b036-1539-4511-b67d-ad212b05ad38",
   "metadata": {},
   "source": [
    "#### filter 함수와 람다를 이용하여 리스트형 자료 num_list의 요소들 중 짝수들만을 요소로 하여 새로운 리스트 even_list에 "
   ]
  },
  {
   "cell_type": "markdown",
   "id": "2724848e-07b6-41fc-9b06-6f6c60d03705",
   "metadata": {},
   "source": [
    "#### map 함수와 람다를 이용하여 리스트형 자료 even_list의 요소들을 각각 제곱한 값을 요소로 하여 새로운 리스트 square_list에 저장한다."
   ]
  },
  {
   "cell_type": "markdown",
   "id": "e0fd2319-8777-4950-9e20-e764c971e807",
   "metadata": {},
   "source": [
    "## Day 45 Challenge"
   ]
  },
  {
   "cell_type": "code",
   "execution_count": 3,
   "id": "1ca22f68-f4ac-4d9c-83d4-a5b07aa4f991",
   "metadata": {},
   "outputs": [
    {
     "name": "stdout",
     "output_type": "stream",
     "text": [
      "5 won\n"
     ]
    }
   ],
   "source": [
    "from random import randint as r\n",
    "p1, p2 = r(1, 6), r(1, 6)\n",
    "print\n",
    "if p1 > p2:\n",
    "    print(\"%s won\"% p1)\n",
    "elif p1 < p2:\n",
    "    print(\"%s won\"% p2)\n",
    "else:\n",
    "    print(\"No winner\")"
   ]
  },
  {
   "cell_type": "markdown",
   "id": "e0b18a6c-fc90-4eb0-816f-ee1c1a203bce",
   "metadata": {},
   "source": [
    "* random 모듈의 randint 메서드를 가져온다."
   ]
  },
  {
   "cell_type": "code",
   "execution_count": null,
   "id": "3cb942b8-c7dc-4c4a-80db-2141d8b4dc32",
   "metadata": {},
   "outputs": [],
   "source": []
  }
 ],
 "metadata": {
  "kernelspec": {
   "display_name": "Python 3 (ipykernel)",
   "language": "python",
   "name": "python3"
  },
  "language_info": {
   "codemirror_mode": {
    "name": "ipython",
    "version": 3
   },
   "file_extension": ".py",
   "mimetype": "text/x-python",
   "name": "python",
   "nbconvert_exporter": "python",
   "pygments_lexer": "ipython3",
   "version": "3.11.7"
  }
 },
 "nbformat": 4,
 "nbformat_minor": 5
}
